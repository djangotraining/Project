{
 "cells": [
  {
   "cell_type": "code",
   "execution_count": 1,
   "metadata": {},
   "outputs": [],
   "source": [
    "import pandas as pd\n",
    "import numpy as np\n",
    "import matplotlib.pyplot as plt\n",
    "%matplotlib inline"
   ]
  },
  {
   "cell_type": "code",
   "execution_count": 2,
   "metadata": {},
   "outputs": [],
   "source": [
    "langDataset = pd.read_csv(\"data/binary.csv\")"
   ]
  },
  {
   "cell_type": "code",
   "execution_count": 3,
   "metadata": {},
   "outputs": [
    {
     "data": {
      "text/plain": [
       "(30000, 10)"
      ]
     },
     "execution_count": 3,
     "metadata": {},
     "output_type": "execute_result"
    }
   ],
   "source": [
    "langDataset.shape"
   ]
  },
  {
   "cell_type": "code",
   "execution_count": 4,
   "metadata": {},
   "outputs": [
    {
     "data": {
      "text/html": [
       "<div>\n",
       "<style scoped>\n",
       "    .dataframe tbody tr th:only-of-type {\n",
       "        vertical-align: middle;\n",
       "    }\n",
       "\n",
       "    .dataframe tbody tr th {\n",
       "        vertical-align: top;\n",
       "    }\n",
       "\n",
       "    .dataframe thead th {\n",
       "        text-align: right;\n",
       "    }\n",
       "</style>\n",
       "<table border=\"1\" class=\"dataframe\">\n",
       "  <thead>\n",
       "    <tr style=\"text-align: right;\">\n",
       "      <th></th>\n",
       "      <th>c_java</th>\n",
       "      <th>c_javascript</th>\n",
       "      <th>c_r</th>\n",
       "      <th>c_php</th>\n",
       "      <th>c_python</th>\n",
       "      <th>c_swift</th>\n",
       "      <th>c_chash</th>\n",
       "      <th>c_cplus</th>\n",
       "      <th>c_obj</th>\n",
       "      <th>c_os</th>\n",
       "    </tr>\n",
       "  </thead>\n",
       "  <tbody>\n",
       "    <tr>\n",
       "      <th>0</th>\n",
       "      <td>0</td>\n",
       "      <td>1</td>\n",
       "      <td>0</td>\n",
       "      <td>0</td>\n",
       "      <td>0</td>\n",
       "      <td>0</td>\n",
       "      <td>1</td>\n",
       "      <td>0</td>\n",
       "      <td>0</td>\n",
       "      <td>W</td>\n",
       "    </tr>\n",
       "    <tr>\n",
       "      <th>1</th>\n",
       "      <td>0</td>\n",
       "      <td>0</td>\n",
       "      <td>0</td>\n",
       "      <td>0</td>\n",
       "      <td>0</td>\n",
       "      <td>0</td>\n",
       "      <td>0</td>\n",
       "      <td>0</td>\n",
       "      <td>0</td>\n",
       "      <td>W</td>\n",
       "    </tr>\n",
       "    <tr>\n",
       "      <th>2</th>\n",
       "      <td>1</td>\n",
       "      <td>1</td>\n",
       "      <td>0</td>\n",
       "      <td>0</td>\n",
       "      <td>0</td>\n",
       "      <td>0</td>\n",
       "      <td>0</td>\n",
       "      <td>0</td>\n",
       "      <td>0</td>\n",
       "      <td>W</td>\n",
       "    </tr>\n",
       "    <tr>\n",
       "      <th>3</th>\n",
       "      <td>0</td>\n",
       "      <td>0</td>\n",
       "      <td>0</td>\n",
       "      <td>1</td>\n",
       "      <td>0</td>\n",
       "      <td>0</td>\n",
       "      <td>1</td>\n",
       "      <td>0</td>\n",
       "      <td>0</td>\n",
       "      <td>W</td>\n",
       "    </tr>\n",
       "    <tr>\n",
       "      <th>4</th>\n",
       "      <td>0</td>\n",
       "      <td>1</td>\n",
       "      <td>0</td>\n",
       "      <td>1</td>\n",
       "      <td>0</td>\n",
       "      <td>0</td>\n",
       "      <td>0</td>\n",
       "      <td>0</td>\n",
       "      <td>0</td>\n",
       "      <td>W</td>\n",
       "    </tr>\n",
       "  </tbody>\n",
       "</table>\n",
       "</div>"
      ],
      "text/plain": [
       "   c_java  c_javascript  c_r  c_php  c_python  c_swift  c_chash  c_cplus  \\\n",
       "0       0             1    0      0         0        0        1        0   \n",
       "1       0             0    0      0         0        0        0        0   \n",
       "2       1             1    0      0         0        0        0        0   \n",
       "3       0             0    0      1         0        0        1        0   \n",
       "4       0             1    0      1         0        0        0        0   \n",
       "\n",
       "   c_obj c_os  \n",
       "0      0    W  \n",
       "1      0    W  \n",
       "2      0    W  \n",
       "3      0    W  \n",
       "4      0    W  "
      ]
     },
     "execution_count": 4,
     "metadata": {},
     "output_type": "execute_result"
    }
   ],
   "source": [
    "langDataset.head()"
   ]
  },
  {
   "cell_type": "code",
   "execution_count": 5,
   "metadata": {},
   "outputs": [],
   "source": [
    "X = langDataset.drop('c_os', axis=1)\n",
    "y = langDataset['c_os']"
   ]
  },
  {
   "cell_type": "code",
   "execution_count": 48,
   "metadata": {},
   "outputs": [],
   "source": [
    "from sklearn.model_selection import train_test_split\n",
    "X_train, X_test, y_train, y_test = train_test_split(X, y, test_size = 0.20)"
   ]
  },
  {
   "cell_type": "code",
   "execution_count": null,
   "metadata": {},
   "outputs": [],
   "source": [
    "# SVM Linear"
   ]
  },
  {
   "cell_type": "code",
   "execution_count": 49,
   "metadata": {},
   "outputs": [
    {
     "data": {
      "text/plain": [
       "SVC(kernel='linear')"
      ]
     },
     "execution_count": 49,
     "metadata": {},
     "output_type": "execute_result"
    }
   ],
   "source": [
    "from sklearn.svm import SVC\n",
    "svclassifier = SVC(kernel='linear')\n",
    "svclassifier.fit(X_train, y_train)"
   ]
  },
  {
   "cell_type": "code",
   "execution_count": 50,
   "metadata": {},
   "outputs": [],
   "source": [
    "y_pred = svclassifier.predict(X_test)"
   ]
  },
  {
   "cell_type": "code",
   "execution_count": 51,
   "metadata": {},
   "outputs": [
    {
     "name": "stdout",
     "output_type": "stream",
     "text": [
      "[[2190 1272  536]\n",
      " [1331 2192  469]\n",
      " [1166  868 1976]]\n",
      "              precision    recall  f1-score   support\n",
      "\n",
      "           L       0.47      0.55      0.50      3998\n",
      "           M       0.51      0.55      0.53      3992\n",
      "           W       0.66      0.49      0.57      4010\n",
      "\n",
      "    accuracy                           0.53     12000\n",
      "   macro avg       0.55      0.53      0.53     12000\n",
      "weighted avg       0.55      0.53      0.53     12000\n",
      "\n"
     ]
    }
   ],
   "source": [
    "from sklearn.metrics import classification_report, confusion_matrix\n",
    "print(confusion_matrix(y_test,y_pred))\n",
    "print(classification_report(y_test,y_pred))"
   ]
  },
  {
   "cell_type": "code",
   "execution_count": null,
   "metadata": {},
   "outputs": [],
   "source": [
    "# SVM Polynomial"
   ]
  },
  {
   "cell_type": "code",
   "execution_count": 10,
   "metadata": {},
   "outputs": [
    {
     "data": {
      "text/plain": [
       "SVC(degree=8, kernel='poly')"
      ]
     },
     "execution_count": 10,
     "metadata": {},
     "output_type": "execute_result"
    }
   ],
   "source": [
    "from sklearn.svm import SVC\n",
    "svclassifier = SVC(kernel='poly', degree=8)\n",
    "svclassifier.fit(X_train, y_train)"
   ]
  },
  {
   "cell_type": "code",
   "execution_count": 11,
   "metadata": {},
   "outputs": [],
   "source": [
    "y_pred = svclassifier.predict(X_test)"
   ]
  },
  {
   "cell_type": "code",
   "execution_count": 12,
   "metadata": {},
   "outputs": [
    {
     "name": "stdout",
     "output_type": "stream",
     "text": [
      "[[1049  631  281]\n",
      " [ 644 1129  256]\n",
      " [ 469  534 1007]]\n",
      "              precision    recall  f1-score   support\n",
      "\n",
      "           L       0.49      0.53      0.51      1961\n",
      "           M       0.49      0.56      0.52      2029\n",
      "           W       0.65      0.50      0.57      2010\n",
      "\n",
      "    accuracy                           0.53      6000\n",
      "   macro avg       0.54      0.53      0.53      6000\n",
      "weighted avg       0.54      0.53      0.53      6000\n",
      "\n"
     ]
    }
   ],
   "source": [
    "from sklearn.metrics import classification_report, confusion_matrix\n",
    "print(confusion_matrix(y_test, y_pred))\n",
    "print(classification_report(y_test, y_pred))"
   ]
  },
  {
   "cell_type": "code",
   "execution_count": null,
   "metadata": {},
   "outputs": [],
   "source": [
    "# SVM Gusian"
   ]
  },
  {
   "cell_type": "code",
   "execution_count": 13,
   "metadata": {},
   "outputs": [
    {
     "data": {
      "text/plain": [
       "SVC()"
      ]
     },
     "execution_count": 13,
     "metadata": {},
     "output_type": "execute_result"
    }
   ],
   "source": [
    "from sklearn.svm import SVC\n",
    "svclassifier = SVC(kernel='rbf')\n",
    "svclassifier.fit(X_train, y_train)"
   ]
  },
  {
   "cell_type": "code",
   "execution_count": 14,
   "metadata": {},
   "outputs": [],
   "source": [
    "y_pred = svclassifier.predict(X_test)"
   ]
  },
  {
   "cell_type": "code",
   "execution_count": 15,
   "metadata": {},
   "outputs": [
    {
     "name": "stdout",
     "output_type": "stream",
     "text": [
      "[[1134  538  289]\n",
      " [ 708 1060  261]\n",
      " [ 525  460 1025]]\n",
      "              precision    recall  f1-score   support\n",
      "\n",
      "           L       0.48      0.58      0.52      1961\n",
      "           M       0.52      0.52      0.52      2029\n",
      "           W       0.65      0.51      0.57      2010\n",
      "\n",
      "    accuracy                           0.54      6000\n",
      "   macro avg       0.55      0.54      0.54      6000\n",
      "weighted avg       0.55      0.54      0.54      6000\n",
      "\n"
     ]
    }
   ],
   "source": [
    "from sklearn.metrics import classification_report, confusion_matrix\n",
    "print(confusion_matrix(y_test, y_pred))\n",
    "print(classification_report(y_test, y_pred))"
   ]
  },
  {
   "cell_type": "code",
   "execution_count": null,
   "metadata": {},
   "outputs": [],
   "source": [
    "# SVM Sigmoid"
   ]
  },
  {
   "cell_type": "code",
   "execution_count": 16,
   "metadata": {},
   "outputs": [
    {
     "data": {
      "text/plain": [
       "SVC(kernel='sigmoid')"
      ]
     },
     "execution_count": 16,
     "metadata": {},
     "output_type": "execute_result"
    }
   ],
   "source": [
    "from sklearn.svm import SVC\n",
    "svclassifier = SVC(kernel='sigmoid')\n",
    "svclassifier.fit(X_train, y_train)"
   ]
  },
  {
   "cell_type": "code",
   "execution_count": 17,
   "metadata": {},
   "outputs": [],
   "source": [
    "y_pred = svclassifier.predict(X_test)"
   ]
  },
  {
   "cell_type": "code",
   "execution_count": 18,
   "metadata": {},
   "outputs": [
    {
     "name": "stdout",
     "output_type": "stream",
     "text": [
      "[[1012  600  349]\n",
      " [ 930  761  338]\n",
      " [ 758  484  768]]\n",
      "              precision    recall  f1-score   support\n",
      "\n",
      "           L       0.37      0.52      0.43      1961\n",
      "           M       0.41      0.38      0.39      2029\n",
      "           W       0.53      0.38      0.44      2010\n",
      "\n",
      "    accuracy                           0.42      6000\n",
      "   macro avg       0.44      0.42      0.42      6000\n",
      "weighted avg       0.44      0.42      0.42      6000\n",
      "\n"
     ]
    }
   ],
   "source": [
    "from sklearn.metrics import classification_report, confusion_matrix\n",
    "print(confusion_matrix(y_test, y_pred))\n",
    "print(classification_report(y_test, y_pred))"
   ]
  },
  {
   "cell_type": "code",
   "execution_count": null,
   "metadata": {},
   "outputs": [],
   "source": [
    "# Logistic Regression"
   ]
  },
  {
   "cell_type": "code",
   "execution_count": 19,
   "metadata": {},
   "outputs": [],
   "source": [
    "from sklearn.linear_model import LogisticRegression\n",
    "from sklearn.metrics import classification_report, confusion_matrix"
   ]
  },
  {
   "cell_type": "code",
   "execution_count": 23,
   "metadata": {},
   "outputs": [],
   "source": [
    "X = langDataset.drop('c_os', axis=1)\n",
    "y = langDataset['c_os']"
   ]
  },
  {
   "cell_type": "code",
   "execution_count": 24,
   "metadata": {},
   "outputs": [
    {
     "data": {
      "text/plain": [
       "LogisticRegression(C=10.0, random_state=0, solver='liblinear')"
      ]
     },
     "execution_count": 24,
     "metadata": {},
     "output_type": "execute_result"
    }
   ],
   "source": [
    "model = LogisticRegression(solver='liblinear', C=10.0, random_state=0)\n",
    "model.fit(X, y)"
   ]
  },
  {
   "cell_type": "code",
   "execution_count": 26,
   "metadata": {},
   "outputs": [],
   "source": [
    "p_pred = model.predict_proba(X)\n",
    "y_pred = model.predict(X)\n",
    "score_ = model.score(X, y)\n",
    "conf_m = confusion_matrix(y, y_pred)\n",
    "report = classification_report(y, y_pred)"
   ]
  },
  {
   "cell_type": "code",
   "execution_count": 27,
   "metadata": {},
   "outputs": [
    {
     "name": "stdout",
     "output_type": "stream",
     "text": [
      "x:\n",
      "       c_java  c_javascript  c_r  c_php  c_python  c_swift  c_chash  c_cplus  \\\n",
      "0           0             1    0      0         0        0        1        0   \n",
      "1           0             0    0      0         0        0        0        0   \n",
      "2           1             1    0      0         0        0        0        0   \n",
      "3           0             0    0      1         0        0        1        0   \n",
      "4           0             1    0      1         0        0        0        0   \n",
      "...       ...           ...  ...    ...       ...      ...      ...      ...   \n",
      "29995       1             1    0      0         1        0        0        0   \n",
      "29996       0             1    0      0         1        0        1        1   \n",
      "29997       0             0    0      0         0        1        0        0   \n",
      "29998       0             1    0      0         1        0        0        1   \n",
      "29999       1             0    0      0         1        1        0        0   \n",
      "\n",
      "       c_obj  \n",
      "0          0  \n",
      "1          0  \n",
      "2          0  \n",
      "3          0  \n",
      "4          0  \n",
      "...      ...  \n",
      "29995      0  \n",
      "29996      0  \n",
      "29997      1  \n",
      "29998      0  \n",
      "29999      0  \n",
      "\n",
      "[30000 rows x 9 columns]\n"
     ]
    }
   ],
   "source": [
    "print('x:', X, sep='\\n')"
   ]
  },
  {
   "cell_type": "code",
   "execution_count": 28,
   "metadata": {},
   "outputs": [
    {
     "name": "stdout",
     "output_type": "stream",
     "text": [
      "y:\n",
      "0        W\n",
      "1        W\n",
      "2        W\n",
      "3        W\n",
      "4        W\n",
      "        ..\n",
      "29995    M\n",
      "29996    M\n",
      "29997    M\n",
      "29998    M\n",
      "29999    M\n",
      "Name: c_os, Length: 30000, dtype: object\n",
      "\n"
     ]
    }
   ],
   "source": [
    "print('y:', y, sep='\\n', end='\\n\\n')"
   ]
  },
  {
   "cell_type": "code",
   "execution_count": 29,
   "metadata": {},
   "outputs": [
    {
     "name": "stdout",
     "output_type": "stream",
     "text": [
      "intercept: [-0.74846822 -0.65675678 -0.77759717]\n"
     ]
    }
   ],
   "source": [
    " print('intercept:', model.intercept_)"
   ]
  },
  {
   "cell_type": "code",
   "execution_count": 30,
   "metadata": {},
   "outputs": [
    {
     "name": "stdout",
     "output_type": "stream",
     "text": [
      "coef: [[ 0.03299647 -0.20749241 -0.07289626  0.27129339  0.6569899  -1.4138026\n",
      "  -1.19426792  0.69669609 -0.68709463]\n",
      " [-0.03915504  0.44889674 -0.13192963 -0.20921209 -0.14148695  1.97442667\n",
      "  -1.10810201 -0.82032479  1.27503449]\n",
      " [ 0.03199166 -0.23393502  0.24026222 -0.05299596 -0.57950981 -1.34905408\n",
      "   1.89670409 -0.01591123 -0.90702662]]\n",
      "\n"
     ]
    }
   ],
   "source": [
    "print('coef:', model.coef_, end='\\n\\n')"
   ]
  },
  {
   "cell_type": "code",
   "execution_count": 31,
   "metadata": {},
   "outputs": [
    {
     "name": "stdout",
     "output_type": "stream",
     "text": [
      "p_pred:\n",
      "[[0.1018956  0.20659589 0.69150851]\n",
      " [0.32856036 0.34934212 0.32209752]\n",
      " [0.28552623 0.44036576 0.27410801]\n",
      " ...\n",
      " [0.05306734 0.90238759 0.04454507]\n",
      " [0.59690699 0.23642553 0.16666748]\n",
      " [0.18506991 0.75094273 0.06398736]]\n",
      "\n"
     ]
    }
   ],
   "source": [
    "print('p_pred:', p_pred, sep='\\n', end='\\n\\n')"
   ]
  },
  {
   "cell_type": "code",
   "execution_count": 32,
   "metadata": {},
   "outputs": [
    {
     "name": "stdout",
     "output_type": "stream",
     "text": [
      "y_pred: ['W' 'M' 'M' ... 'M' 'L' 'M']\n",
      "\n"
     ]
    }
   ],
   "source": [
    "print('y_pred:', y_pred, end='\\n\\n')"
   ]
  },
  {
   "cell_type": "code",
   "execution_count": 33,
   "metadata": {},
   "outputs": [
    {
     "name": "stdout",
     "output_type": "stream",
     "text": [
      "score_: 0.5377333333333333\n",
      "\n"
     ]
    }
   ],
   "source": [
    "print('score_:', score_, end='\\n\\n')"
   ]
  },
  {
   "cell_type": "code",
   "execution_count": 34,
   "metadata": {},
   "outputs": [
    {
     "name": "stdout",
     "output_type": "stream",
     "text": [
      "conf_m:\n",
      "[[5559 3080 1361]\n",
      " [3274 5510 1216]\n",
      " [2403 2534 5063]]\n",
      "\n"
     ]
    }
   ],
   "source": [
    "print('conf_m:', conf_m, sep='\\n', end='\\n\\n')"
   ]
  },
  {
   "cell_type": "code",
   "execution_count": 35,
   "metadata": {},
   "outputs": [
    {
     "name": "stdout",
     "output_type": "stream",
     "text": [
      "report:\n",
      "              precision    recall  f1-score   support\n",
      "\n",
      "           L       0.49      0.56      0.52     10000\n",
      "           M       0.50      0.55      0.52     10000\n",
      "           W       0.66      0.51      0.57     10000\n",
      "\n",
      "    accuracy                           0.54     30000\n",
      "   macro avg       0.55      0.54      0.54     30000\n",
      "weighted avg       0.55      0.54      0.54     30000\n",
      "\n"
     ]
    }
   ],
   "source": [
    "print('report:', report, sep='\\n')"
   ]
  },
  {
   "cell_type": "code",
   "execution_count": null,
   "metadata": {},
   "outputs": [],
   "source": []
  }
 ],
 "metadata": {
  "kernelspec": {
   "display_name": "Python 3",
   "language": "python",
   "name": "python3"
  },
  "language_info": {
   "codemirror_mode": {
    "name": "ipython",
    "version": 3
   },
   "file_extension": ".py",
   "mimetype": "text/x-python",
   "name": "python",
   "nbconvert_exporter": "python",
   "pygments_lexer": "ipython3",
   "version": "3.8.5"
  }
 },
 "nbformat": 4,
 "nbformat_minor": 4
}
